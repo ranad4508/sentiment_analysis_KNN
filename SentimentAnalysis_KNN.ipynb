{
 "cells": [
  {
   "cell_type": "markdown",
   "metadata": {},
   "source": [
    "# Sentiment Analysis on Movie Reviews using KNN Classifier"
   ]
  },
  {
   "cell_type": "code",
   "execution_count": 2,
   "metadata": {},
   "outputs": [],
   "source": [
    "#Importing all the neccessary libraries\n",
    "%matplotlib inline \n",
    "#allows for inline plotting with Matplotlib\n",
    "import pandas as pd \n",
    "#library that provides data structures like DataFrames for handling tabular data\n",
    "import numpy as np \n",
    "# library for numerical computing in Python\n",
    "import nltk \n",
    "#The Natural Language Toolkit, a suite of libraries and programs for natural language processing (NLP)\n",
    "import string \n",
    "#Python module for string operations\n",
    "import matplotlib.pyplot as plt \n",
    "#plotting library used for creating interactive visualizations in Python\n",
    "import seaborn as sns\n",
    "#library based on Matplotlib that provides a high-level interface for drawing\n",
    "from sklearn.feature_extraction.text import TfidfTransformer \n",
    "#transforms a count matrix to a normalized term-frequency or \n",
    "#term-frequency times inverse document-frequency (TF-IDF) representation\n",
    "from sklearn.feature_extraction.text import TfidfVectorizer \n",
    "#that converts a collection of raw documents to a matrix of TF-IDF features\n",
    "from sklearn.feature_extraction.text import CountVectorizer \n",
    "#hat converts a collection of text documents to a matrix of token counts\n",
    "from sklearn.metrics import confusion_matrix \n",
    "#function that computes the confusion matrix to evaluate the accuracy of a classification\n",
    "from sklearn import metrics \n",
    "#functions for calculating various performance metrics\n",
    "from sklearn.metrics import roc_curve, auc\n",
    "#Functions to compute the Receiver Operating Characteristic (ROC) curve\n",
    "#and the area under the curve (AUC) for binary classifiers\n",
    "from nltk.stem.porter import PorterStemmer \n",
    "#class for stemming words using the Porter stemming algorithm,\n",
    "#which removes common morphological and inflexional endings from words\n",
    "from nltk.corpus import stopwords\n",
    "from nltk.stem.wordnet import WordNetLemmatizer \n",
    "#class for lemmatizing words using the WordNet database, reducing words to their base or root form\n",
    "from gensim.models import Word2Vec \n",
    "#class in Gensim for training and using Word2Vec models, which produce word embeddings\n",
    "from gensim.models import KeyedVectors \n",
    "#class in Gensim for loading and working with pre-trained word vectors.\n",
    "import pickle \n",
    "#module for serializing and de-serializing Python objects\n",
    "import warnings \n",
    "#module for issuing warning messages\n",
    "warnings.filterwarnings(\"ignore\")\n",
    "from sklearn import datasets, neighbors\n",
    "from sklearn.model_selection import train_test_split \n",
    "#function for splitting arrays or matrices into random train and test subsets\n",
    "from sklearn.neighbors import KNeighborsClassifier \n",
    "#class implementing the k-nearest neighbors (k-NN) classification algorithm\n",
    "from sklearn.metrics import accuracy_score \n",
    "#function for calculating the accuracy classification score\n",
    "from sklearn.model_selection import cross_val_score \n",
    "#function for evaluating a score by cross-validation\n",
    "from collections import Counter \n",
    "#class from the collections module that provides a dictionary subclass for counting hashable objects\n",
    "from sklearn.model_selection import cross_validate \n",
    "#function for evaluating multiple metrics by cross-validation\n",
    "#from sklearn import cross_validation\n",
    "from matplotlib.colors import ListedColormap \n",
    "#class for creating colormaps from a list of colors\n",
    "from sklearn.metrics import precision_score \n",
    "#Functions for calculating precision\n",
    "from sklearn.metrics import recall_score \n",
    "#Functions for calculating recall\n",
    "from sklearn.metrics import f1_score \n",
    "#Functions for calculating F1-score metrics\n",
    "import scikitplot.metrics as sciplot \n",
    "# library for visualizing metrics in machine learning models\n",
    "import sklearn.metrics as metrics\n",
    "import math\n",
    "from sklearn.decomposition import TruncatedSVD \n",
    "#class for dimensionality reduction using truncated singular value decomposition (SVD)"
   ]
  },
  {
   "cell_type": "markdown",
   "metadata": {},
   "source": [
    "<b> Data Source: <b> https://www.kaggle.com/c/sentiment-analysis-on-movie-reviews"
   ]
  },
  {
   "cell_type": "markdown",
   "metadata": {},
   "source": [
    "### References :\n",
    "1. Chandra, Y., & Jana, A. (2020). Sentiment Analysis using Machine Learning and Deep Learning. 2020 7th International Conference on Computing for Sustainable Global Development (INDIACom). doi:10.23919/indiacom49435.2020.9083703 \n",
    "\n",
    "2. Rathee, N., Joshi, N., & Kaur, J. (2018). Sentiment Analysis Using Machine Learning Techniques on Python. 2018 Second International Conference on Intelligent Computing and Control Systems (ICICCS). doi:10.1109/iccons.2018.8663224 \n",
    "\n",
    "3. Nigam, S., Das, A. K., & Chandra, R. (2018). Machine Learning Based Approach To Sentiment Analysis. 2018 International Conference on Advances in Computing, Communication Control and Networking (ICACCCN). doi:10.1109/icacccn.2018.8748848 "
   ]
  },
  {
   "cell_type": "markdown",
   "metadata": {},
   "source": [
    "### Attribute Information: "
   ]
  },
  {
   "cell_type": "markdown",
   "metadata": {},
   "source": [
    "1. Phrase Id\n",
    "2. Sentence Id\n",
    "3. Phrase\n",
    "4. Sentiment"
   ]
  },
  {
   "cell_type": "markdown",
   "metadata": {},
   "source": [
    "#### Objective: "
   ]
  },
  {
   "cell_type": "markdown",
   "metadata": {},
   "source": [
    "Our main objective for this analysis is to train a model which can seperate the postive and negative reviews."
   ]
  },
  {
   "cell_type": "markdown",
   "metadata": {},
   "source": [
    "#### While pre-processing the original dataset we have taken into consideration the following points."
   ]
  },
  {
   "cell_type": "markdown",
   "metadata": {},
   "source": [
    "1. We will classify a review to be positive if and only if the corresponding Score for the given review is 3 or 4.\n",
    "2. We will classify a review to be negative if and only if the corresponding Score for the given review is 0 or 1.\n",
    "3. We will ignore the reviews for the time being which has a Score rating of 2. Because 2 can be thought of as a neutral review. It's neither negative nor positive.\n",
    "4. We will remove the duplicate entries from the dataset.\n",
    "5. We will train our final model using four featurizations -> bag of words model, tf-idf model, average word-to-vec model and tf-idf weighted word-to-vec model.\n",
    "6. So at end of the training the model will be trained on the above four featurizations to determine if a given review is positive or negative."
   ]
  },
  {
   "cell_type": "markdown",
   "metadata": {},
   "source": [
    "## Key Terms"
   ]
  },
  {
   "cell_type": "markdown",
   "metadata": {},
   "source": [
    "Certainly! Based on the provided code snippets and discussions, here are some keywords and key terms along with their explanations:\n",
    "\n",
    "1. Bag-of-Words (BoW):\n",
    "   - Definition: A method for converting text into numerical feature vectors where each unique word in the text is represented by a dimension in the vector space. It counts the occurrence of each word in the document.\n",
    "   - Usage: Used for feature extraction in natural language processing and machine learning tasks.\n",
    "\n",
    "2. TF-IDF (Term Frequency-Inverse Document Frequency):\n",
    "   - Definition: A numerical statistic that reflects the importance of a word in a document relative to a collection of documents. It balances the frequency of a word in a document with its frequency across all documents.\n",
    "   - Usage: Commonly used in information retrieval and text mining as a way to weigh the importance of words in a document corpus.\n",
    "\n",
    "3. Word2Vec:\n",
    "   - Definition: A technique for learning word embeddings, which are dense vector representations of words in a continuous vector space, typically used to capture semantic relationships between words.\n",
    "   - Usage: Often employed in natural language processing tasks such as word similarity, language modeling, and sentiment analysis.\n",
    "\n",
    "4. K-Nearest Neighbors (KNN):\n",
    "   - Definition: A non-parametric algorithm used for classification and regression. It predicts the classification of a data point based on majority class among its nearest neighbors in the feature space.\n",
    "   - Usage: Applied in various machine learning tasks where classification or regression based on similarity in feature space is required.\n",
    "\n",
    "5. Cross-Validation:\n",
    "   - Definition: A technique used to assess how well a model generalizes to an independent dataset. It partitions the dataset into multiple subsets (folds), trains the model on some folds, and evaluates it on the remaining fold.\n",
    "   - Usage: Helps in tuning model hyperparameters, selecting models, and estimating model performance.\n",
    "\n",
    "6. Standardization:\n",
    "   - Definition: A preprocessing step that transforms data to have zero mean and unit variance. It ensures that features are on a similar scale, preventing some features from dominating others in the learning process.\n",
    "   - Usage: Often applied to features before feeding them into machine learning algorithms that assume data is normally distributed.\n",
    "\n",
    "7. Sparse Matrix:\n",
    "   - Definition: A matrix where most of the elements are zero. It is efficient in memory usage and computation for datasets with a large number of features that are mostly zeros.\n",
    "   - Usage: Commonly used to represent high-dimensional data in natural language processing tasks like text classification using BoW or TF-IDF.\n",
    "\n",
    "8. Precision, Recall, F1-Score:\n",
    "   - Precision: Measures the accuracy of positive predictions. It is the ratio of true positive predictions to the total predicted positives.\n",
    "   - Recall: Measures the ratio of true positive predictions to the total actual positives. It quantifies the ability of the model to find all relevant instances in the dataset.\n",
    "   - F1-Score: A harmonic mean of precision and recall, providing a single metric to evaluate a model's performance, balancing both precision and recall.\n",
    "   \n",
    "Certainly! Here are some additional terms and their explanations related to text preprocessing and machine learning:\n",
    "\n",
    "9. Stop Words:\n",
    "   - Definition: Commonly used words (such as \"and\", \"the\", \"is\") that are filtered out before or after processing text data. These words are often considered to have little value in determining the meaning of a text.\n",
    "   - Usage: Stop words are removed during text preprocessing to improve the efficiency of algorithms and to focus on meaningful words.\n",
    "\n",
    "10. Decontracted Text:\n",
    "   - Definition: The process of expanding contractions (e.g., \"can't\" to \"cannot\", \"I'll\" to \"I will\") in text data.\n",
    "   - Usage: Helps in standardizing text and improving the accuracy of text processing tasks by treating words in their expanded form.\n",
    "\n",
    "11. Tokenization:\n",
    "   - Definition: The process of breaking down a text into smaller units such as words or sentences (tokens).\n",
    "   - Usage: Essential for various text processing tasks including indexing, stemming, and semantic analysis.\n",
    "\n",
    "12. Stemming:\n",
    "   - Definition: The process of reducing inflected (or sometimes derived) words to their word stem or root form.\n",
    "   - Usage: Reduces the number of words to be processed, which can improve the efficiency of text analysis and retrieval.\n",
    "\n",
    "13. Lemmatization:\n",
    "   - Definition: Similar to stemming, but it reduces words to their base or dictionary form (lemma) based on their part of speech.\n",
    "   - Usage: Provides more accurate results compared to stemming, especially in applications where word meaning and context are important.\n",
    "\n",
    "14. HTML Tags:\n",
    "   - Definition: Tags used in HTML markup language to structure and format content on web pages.\n",
    "   - Usage: Removed during text preprocessing to clean raw text data extracted from web sources before further analysis.\n",
    "\n",
    "15. Punctuation:\n",
    "   - Definition: Characters such as commas, periods, exclamation marks, etc., used to separate sentences or clauses.\n",
    "   - Usage: Often removed or replaced during text preprocessing to simplify text and improve the accuracy of text-based models.\n",
    "\n",
    "16. Feature Extraction:\n",
    "   - Definition: The process of transforming raw data into numerical features that can be used as input to machine learning algorithms.\n",
    "   - Usage: In text processing, techniques like BoW, TF-IDF, and word embeddings (e.g., Word2Vec) are used to extract features from text data for classification or clustering tasks.\n",
    "\n",
    "These terms and concepts are fundamental in natural language processing (NLP) and machine learning (ML) tasks, especially when dealing with text data preprocessing, feature extraction, and model evaluation."
   ]
  },
  {
   "cell_type": "code",
   "execution_count": null,
   "metadata": {},
   "outputs": [],
   "source": []
  },
  {
   "cell_type": "code",
   "execution_count": null,
   "metadata": {},
   "outputs": [],
   "source": []
  },
  {
   "cell_type": "markdown",
   "metadata": {},
   "source": [
    "## Reading Raw Data "
   ]
  },
  {
   "cell_type": "code",
   "execution_count": 3,
   "metadata": {},
   "outputs": [
    {
     "name": "stdout",
     "output_type": "stream",
     "text": [
      "shape (156060, 4)\n"
     ]
    },
    {
     "data": {
      "text/html": [
       "<div>\n",
       "<style scoped>\n",
       "    .dataframe tbody tr th:only-of-type {\n",
       "        vertical-align: middle;\n",
       "    }\n",
       "\n",
       "    .dataframe tbody tr th {\n",
       "        vertical-align: top;\n",
       "    }\n",
       "\n",
       "    .dataframe thead th {\n",
       "        text-align: right;\n",
       "    }\n",
       "</style>\n",
       "<table border=\"1\" class=\"dataframe\">\n",
       "  <thead>\n",
       "    <tr style=\"text-align: right;\">\n",
       "      <th></th>\n",
       "      <th>PhraseId</th>\n",
       "      <th>SentenceId</th>\n",
       "      <th>Phrase</th>\n",
       "      <th>Sentiment</th>\n",
       "    </tr>\n",
       "  </thead>\n",
       "  <tbody>\n",
       "    <tr>\n",
       "      <th>0</th>\n",
       "      <td>1</td>\n",
       "      <td>1</td>\n",
       "      <td>A series of escapades demonstrating the adage ...</td>\n",
       "      <td>1</td>\n",
       "    </tr>\n",
       "    <tr>\n",
       "      <th>1</th>\n",
       "      <td>2</td>\n",
       "      <td>1</td>\n",
       "      <td>A series of escapades demonstrating the adage ...</td>\n",
       "      <td>2</td>\n",
       "    </tr>\n",
       "    <tr>\n",
       "      <th>2</th>\n",
       "      <td>3</td>\n",
       "      <td>1</td>\n",
       "      <td>A series</td>\n",
       "      <td>2</td>\n",
       "    </tr>\n",
       "    <tr>\n",
       "      <th>3</th>\n",
       "      <td>4</td>\n",
       "      <td>1</td>\n",
       "      <td>A</td>\n",
       "      <td>2</td>\n",
       "    </tr>\n",
       "    <tr>\n",
       "      <th>4</th>\n",
       "      <td>5</td>\n",
       "      <td>1</td>\n",
       "      <td>series</td>\n",
       "      <td>2</td>\n",
       "    </tr>\n",
       "  </tbody>\n",
       "</table>\n",
       "</div>"
      ],
      "text/plain": [
       "   PhraseId  SentenceId                                             Phrase  \\\n",
       "0         1           1  A series of escapades demonstrating the adage ...   \n",
       "1         2           1  A series of escapades demonstrating the adage ...   \n",
       "2         3           1                                           A series   \n",
       "3         4           1                                                  A   \n",
       "4         5           1                                             series   \n",
       "\n",
       "   Sentiment  \n",
       "0          1  \n",
       "1          2  \n",
       "2          2  \n",
       "3          2  \n",
       "4          2  "
      ]
     },
     "execution_count": 3,
     "metadata": {},
     "output_type": "execute_result"
    }
   ],
   "source": [
    "data = pd.read_csv('train.tsv', delimiter='\\t')\n",
    "# data= data[1:1000]\n",
    "print(\"shape\",np.shape(data))\n",
    "data.head(5)"
   ]
  },
  {
   "cell_type": "code",
   "execution_count": 4,
   "metadata": {},
   "outputs": [
    {
     "data": {
      "text/html": [
       "<div>\n",
       "<style scoped>\n",
       "    .dataframe tbody tr th:only-of-type {\n",
       "        vertical-align: middle;\n",
       "    }\n",
       "\n",
       "    .dataframe tbody tr th {\n",
       "        vertical-align: top;\n",
       "    }\n",
       "\n",
       "    .dataframe thead th {\n",
       "        text-align: right;\n",
       "    }\n",
       "</style>\n",
       "<table border=\"1\" class=\"dataframe\">\n",
       "  <thead>\n",
       "    <tr style=\"text-align: right;\">\n",
       "      <th></th>\n",
       "      <th>PhraseId</th>\n",
       "      <th>SentenceId</th>\n",
       "      <th>Phrase</th>\n",
       "      <th>Sentiment</th>\n",
       "      <th>SentimentPolarity</th>\n",
       "      <th>Class_Labels</th>\n",
       "    </tr>\n",
       "  </thead>\n",
       "  <tbody>\n",
       "    <tr>\n",
       "      <th>0</th>\n",
       "      <td>1</td>\n",
       "      <td>1</td>\n",
       "      <td>A series of escapades demonstrating the adage ...</td>\n",
       "      <td>1</td>\n",
       "      <td>Negative</td>\n",
       "      <td>0</td>\n",
       "    </tr>\n",
       "    <tr>\n",
       "      <th>1</th>\n",
       "      <td>2</td>\n",
       "      <td>1</td>\n",
       "      <td>A series of escapades demonstrating the adage ...</td>\n",
       "      <td>2</td>\n",
       "      <td>Negative</td>\n",
       "      <td>0</td>\n",
       "    </tr>\n",
       "    <tr>\n",
       "      <th>2</th>\n",
       "      <td>3</td>\n",
       "      <td>1</td>\n",
       "      <td>A series</td>\n",
       "      <td>2</td>\n",
       "      <td>Negative</td>\n",
       "      <td>0</td>\n",
       "    </tr>\n",
       "    <tr>\n",
       "      <th>3</th>\n",
       "      <td>4</td>\n",
       "      <td>1</td>\n",
       "      <td>A</td>\n",
       "      <td>2</td>\n",
       "      <td>Negative</td>\n",
       "      <td>0</td>\n",
       "    </tr>\n",
       "    <tr>\n",
       "      <th>4</th>\n",
       "      <td>5</td>\n",
       "      <td>1</td>\n",
       "      <td>series</td>\n",
       "      <td>2</td>\n",
       "      <td>Negative</td>\n",
       "      <td>0</td>\n",
       "    </tr>\n",
       "  </tbody>\n",
       "</table>\n",
       "</div>"
      ],
      "text/plain": [
       "   PhraseId  SentenceId                                             Phrase  \\\n",
       "0         1           1  A series of escapades demonstrating the adage ...   \n",
       "1         2           1  A series of escapades demonstrating the adage ...   \n",
       "2         3           1                                           A series   \n",
       "3         4           1                                                  A   \n",
       "4         5           1                                             series   \n",
       "\n",
       "   Sentiment SentimentPolarity  Class_Labels  \n",
       "0          1          Negative             0  \n",
       "1          2          Negative             0  \n",
       "2          2          Negative             0  \n",
       "3          2          Negative             0  \n",
       "4          2          Negative             0  "
      ]
     },
     "execution_count": 4,
     "metadata": {},
     "output_type": "execute_result"
    }
   ],
   "source": [
    "final_data=data\n",
    "final_data['SentimentPolarity'] = final_data['Sentiment'].apply(lambda x : 'Positive' if x > 2 else 'Negative')\n",
    "final_data['Class_Labels'] = final_data['SentimentPolarity'].apply(lambda x : 1 if x == 'Positive' else 0)\n",
    "final_data.head()"
   ]
  },
  {
   "cell_type": "markdown",
   "metadata": {},
   "source": [
    "This code creates a new DataFrame `final_data` by copying the existing `data` DataFrame. It then adds two new columns to `final_data`. The first column, `SentimentPolarity`, is created by applying a lambda function to the `Sentiment` column. If the sentiment value is greater than 2, the polarity is labeled as 'Positive'; otherwise, it is labeled as 'Negative'. The second column, `Class_Labels`, is derived from the `SentimentPolarity` column, where 'Positive' is converted to 1 and 'Negative' to 0. This transformation prepares the data for further analysis or modeling by converting sentiment scores into binary class labels."
   ]
  },
  {
   "cell_type": "code",
   "execution_count": 26,
   "metadata": {},
   "outputs": [
    {
     "data": {
      "text/plain": [
       "<Axes: title={'center': 'Distribution Of Positive and Negative reviews'}>"
      ]
     },
     "execution_count": 26,
     "metadata": {},
     "output_type": "execute_result"
    },
    {
     "data": {
      "image/png": "[encoded data removed]",
      "text/plain": [
       "<Figure size 500x500 with 1 Axes>"
      ]
     },
     "metadata": {},
     "output_type": "display_data"
    }
   ],
   "source": [
    "#Display distribution of Postive and Negative reviews in a bar graph\n",
    "final_data[\"Class_Labels\"].value_counts().plot(kind='bar',color=['#123adc','brown'],title='Distribution Of Positive and Negative reviews',figsize=(5,5))"
   ]
  },
  {
   "cell_type": "markdown",
   "metadata": {},
   "source": [
    "## Preprocessing "
   ]
  },
  {
   "cell_type": "markdown",
   "metadata": {},
   "source": [
    "### Preprocessing Review "
   ]
  },
  {
   "cell_type": "markdown",
   "metadata": {},
   "source": [
    "Our data requires some preprocessing before we go on further with analysis and making the prediction model."
   ]
  },
  {
   "cell_type": "markdown",
   "metadata": {},
   "source": [
    "Hence in the Preprocessing phase we do the following in the order below:-"
   ]
  },
  {
   "cell_type": "markdown",
   "metadata": {},
   "source": [
    "1. Begin by removing the html tags\n",
    "2. Remove any punctuations or limited set of special characters like , or . or # etc.\n",
    "3. Check if the word is made up of english letters and is not alpha-numeric\n",
    "4. Check to see if the length of the word is greater than 2 (as it was researched that there is no adjective in 2-letters)\n",
    "5. Convert the word to lowercase\n",
    "6. Remove Stopwords\n",
    "7. Finally Snowball Stemming the word (it was obsereved to be better than Porter Stemming)"
   ]
  },
  {
   "cell_type": "markdown",
   "metadata": {},
   "source": [
    "After which we collect the words used to describe positive and negative reviews"
   ]
  },
  {
   "cell_type": "code",
   "execution_count": 6,
   "metadata": {},
   "outputs": [
    {
     "name": "stdout",
     "output_type": "stream",
     "text": [
      "A series of escapades demonstrating the adage that what is good for the goose is also good for the gander , some of which occasionally amuses but none of which amounts to much of a story .\n",
      "Review Polarity: Negative\n",
      "=======================================================================================================================================================================================================================\n",
      "to avoid\n",
      "Review Polarity: Negative\n",
      "=======================================================================================================================================================================================================================\n",
      "convolutions\n",
      "Review Polarity: Negative\n",
      "=======================================================================================================================================================================================================================\n",
      "pointless extremes\n",
      "Review Polarity: Negative\n",
      "=======================================================================================================================================================================================================================\n",
      "Dignified CEO 's meet at a rustic retreat and pee against a tree .\n",
      "Review Polarity: Negative\n",
      "=======================================================================================================================================================================================================================\n"
     ]
    }
   ],
   "source": [
    "#Printing some random reviews.\n",
    "sent_1 = final_data['Phrase'].values[0]\n",
    "print(sent_1)\n",
    "print(\"Review Polarity: {}\".format(final_data['SentimentPolarity'].values[0]))\n",
    "print(\"=\"*215)\n",
    "\n",
    "sent_2 = final_data['Phrase'].values[1000]\n",
    "print(sent_2)\n",
    "print(\"Review Polarity: {}\".format(final_data['SentimentPolarity'].values[1000]))\n",
    "print(\"=\"*215)\n",
    "\n",
    "sent_3 = final_data['Phrase'].values[1500]\n",
    "print(sent_3)\n",
    "print(\"Review Polarity: {}\".format(final_data['SentimentPolarity'].values[1500]))\n",
    "print(\"=\"*215)\n",
    "\n",
    "sent_4 = final_data['Phrase'].values[4900]\n",
    "print(sent_4)\n",
    "print(\"Review Polarity: {}\".format(final_data['SentimentPolarity'].values[4900]))\n",
    "print(\"=\"*215)\n",
    "\n",
    "sent_5 = final_data['Phrase'].values[12566]\n",
    "print(sent_5)\n",
    "print(\"Review Polarity: {}\".format(final_data['SentimentPolarity'].values[12566]))\n",
    "print(\"=\"*215)\n"
   ]
  },
  {
   "cell_type": "markdown",
   "metadata": {},
   "source": [
    "This code prints five phrases from the final_data DataFrame along with their corresponding sentiment polarity labels. For each selected phrase (at indices 0, 1000, 1500, 4900, and 12566), it displays the phrase text followed by the sentiment polarity (either 'Positive' or 'Negative'), separated by a line of equal signs for clarity. This helps in visualizing the sentiment classification of different phrases within the dataset."
   ]
  },
  {
   "cell_type": "code",
   "execution_count": 7,
   "metadata": {},
   "outputs": [
    {
     "name": "stdout",
     "output_type": "stream",
     "text": [
      "A series of escapades demonstrating the adage that what is good for the goose is also good for the gander , some of which occasionally amuses but none of which amounts to much of a story . \n",
      "\n",
      "=======================================================================================================================================================================================================================\n",
      "to avoid \n",
      "\n",
      "=======================================================================================================================================================================================================================\n",
      "convolutions \n",
      "\n",
      "=======================================================================================================================================================================================================================\n",
      "pointless extremes \n",
      "\n",
      "=======================================================================================================================================================================================================================\n",
      "Dignified CEO 's meet at a rustic retreat and pee against a tree . \n",
      "\n",
      "=======================================================================================================================================================================================================================\n"
     ]
    }
   ],
   "source": [
    "import re\n",
    "\n",
    "# Remove URLs from the first phrase\n",
    "sent_1 = re.sub(r\"http\\S+\", \" \", sent_1)\n",
    "\n",
    "# Remove URLs from the phrase at index 1000\n",
    "sent_2 = re.sub(r\"http\\S+\", \" \", sent_2)\n",
    "\n",
    "# Remove URLs from the phrase at index 1500\n",
    "sent_3 = re.sub(r\"http\\S+\", \" \", sent_3)\n",
    "\n",
    "# Remove URLs from the phrase at index 4900\n",
    "sent_4 = re.sub(r\"http\\S+\", \" \", sent_4)\n",
    "\n",
    "# Remove URLs from the phrase at index 12566\n",
    "sent_5 = re.sub(r\"http\\S+\", \" \", sent_5)\n",
    "\n",
    "# Print the first phrase after removing URLs\n",
    "print(sent_1, \"\\n\")\n",
    "print(\"=\" * 215)\n",
    "\n",
    "# Print the phrase at index 1000 after removing URLs\n",
    "print(sent_2, \"\\n\")\n",
    "print(\"=\" * 215)\n",
    "\n",
    "# Print the phrase at index 1500 after removing URLs\n",
    "print(sent_3, \"\\n\")\n",
    "print(\"=\" * 215)\n",
    "\n",
    "# Print the phrase at index 4900 after removing URLs\n",
    "print(sent_4, \"\\n\")\n",
    "print(\"=\" * 215)\n",
    "\n",
    "# Print the phrase at index 12566 after removing URLs\n",
    "print(sent_5, \"\\n\")\n",
    "print(\"=\" * 215)\n"
   ]
  },
  {
   "cell_type": "code",
   "execution_count": 8,
   "metadata": {},
   "outputs": [
    {
     "name": "stdout",
     "output_type": "stream",
     "text": [
      "A series of escapades demonstrating the adage that what is good for the goose is also good for the gander , some of which occasionally amuses but none of which amounts to much of a story .\n",
      "\n",
      "to avoid\n",
      "\n",
      "convolutions\n",
      "\n",
      "pointless extremes\n",
      "\n",
      "Dignified CEO 's meet at a rustic retreat and pee against a tree .\n",
      "\n"
     ]
    }
   ],
   "source": [
    "# Function to clean HTML tags from a sentence\n",
    "def removeHtml(sentence): \n",
    "    # Compile a regex pattern to match HTML tags\n",
    "    pattern = re.compile('<.*?>')\n",
    "    # Replace HTML tags with a space in the sentence\n",
    "    cleaned_text = re.sub(pattern, ' ', sentence)\n",
    "    # Return the cleaned text\n",
    "    return cleaned_text\n",
    "\n",
    "# Print the first sentence after removing HTML tags\n",
    "print(removeHtml(sent_1) + \"\\n\")\n",
    "\n",
    "# Print the sentence at index 1000 after removing HTML tags\n",
    "print(removeHtml(sent_2) + \"\\n\")\n",
    "\n",
    "# Print the sentence at index 1500 after removing HTML tags\n",
    "print(removeHtml(sent_3) + \"\\n\")\n",
    "\n",
    "# Print the sentence at index 4900 after removing HTML tags\n",
    "print(removeHtml(sent_4) + \"\\n\")\n",
    "\n",
    "# Print the sentence at index 12566 after removing HTML tags\n",
    "print(removeHtml(sent_5) + \"\\n\")\n"
   ]
  },
  {
   "cell_type": "code",
   "execution_count": 9,
   "metadata": {},
   "outputs": [],
   "source": [
    "import re\n",
    "\n",
    "# Function to expand contractions and standardize certain phrases\n",
    "def decontracted(x):\n",
    "    # Convert input to string and lower case\n",
    "    x = str(x).lower()\n",
    "\n",
    "    # Replace specific patterns with expanded forms\n",
    "    x = x.replace(\",000,000\", \" m\").replace(\",000\", \" k\")  # Convert large numbers\n",
    "    x = x.replace(\"′\", \"'\").replace(\"’\", \"'\")  # Standardize apostrophes\n",
    "\n",
    "    # Replace common contractions with their expanded forms\n",
    "    x = x.replace(\"won't\", \" will not\").replace(\"cannot\", \" can not\").replace(\"can't\", \" can not\")\n",
    "    x = x.replace(\"n't\", \" not\").replace(\"what's\", \" what is\").replace(\"it's\", \" it is\")\n",
    "    x = x.replace(\"'ve\", \" have\").replace(\"'m\", \" am\").replace(\"'re\", \" are\")\n",
    "    x = x.replace(\"he's\", \" he is\").replace(\"she's\", \" she is\").replace(\"'s\", \" own\")\n",
    "\n",
    "    # Replace symbols with their word equivalents\n",
    "    x = x.replace(\"%\", \" percent \").replace(\"₹\", \" rupee \").replace(\"$\", \" dollar \")\n",
    "    x = x.replace(\"€\", \" euro \").replace(\"'ll\", \" will\")\n",
    "\n",
    "    # Replace additional contractions and slang\n",
    "    x = x.replace(\"how's\",\" how has\").replace(\"y'all\",\" you all\")\n",
    "    x = x.replace(\"o'clock\",\" of the clock\").replace(\"ne'er\",\" never\").replace(\"let's\",\" let us\")\n",
    "    x = x.replace(\"finna\",\" fixing to\").replace(\"gonna\",\" going to\").replace(\"gimme\",\" give me\").replace(\"gotta\",\" got to\").replace(\"'d\",\" would\")\n",
    "    x = x.replace(\"daresn't\",\" dare not\").replace(\"dasn't\",\" dare not\").replace(\"e'er\",\" ever\").replace(\"everyone's\",\" everyone is\")\n",
    "    x = x.replace(\"'cause'\",\" because\")\n",
    "\n",
    "    # Use regex to replace numeric patterns with shorthand forms\n",
    "    x = re.sub(r\"([0-9]+)000000\", r\"\\1m\", x)  # Convert millions\n",
    "    x = re.sub(r\"([0-9]+)000\", r\"\\1k\", x)  # Convert thousands\n",
    "\n",
    "    return x\n"
   ]
  },
  {
   "cell_type": "code",
   "execution_count": 10,
   "metadata": {},
   "outputs": [
    {
     "name": "stdout",
     "output_type": "stream",
     "text": [
      "A series of escapades demonstrating the adage that what is good for the goose is also good for the gander , some of which occasionally amuses but none of which amounts to much of a story .\n"
     ]
    }
   ],
   "source": [
    "import re\n",
    "\n",
    "# Example string\n",
    "'''\n",
    ">>> import re\n",
    ">>> s = \"ABCD abcd AB55 55CD A55D 5555\"\n",
    ">>> re.sub(\"\\S*\\d\\S*\", \"\", s).strip()\n",
    "\n",
    "'ABCD abcd'\n",
    ">>>'''\n",
    "\n",
    "# Remove words containing numbers from the sentence\n",
    "sent_1 = re.sub(\"\\S*\\d\\S*\", \" \", sent_1).strip()\n",
    "\n",
    "# Print the cleaned sentence\n",
    "print(sent_1)\n"
   ]
  },
  {
   "cell_type": "code",
   "execution_count": 11,
   "metadata": {},
   "outputs": [],
   "source": [
    "'''Data Cleaning Stage.'''\n",
    "# Data Cleaning Stage. Clean each review from the sampled Amazon Dataset\n",
    "\n",
    "# Remove words with numbers python: https://stackoverflow.com/a/18082370/4084039\n",
    "def removeNumbers(sentence):\n",
    "    \"\"\"\n",
    "    Removes words that contain numbers from the sentence.\n",
    "    \"\"\"\n",
    "    sentence = re.sub(\"\\S*\\d\\S*\", \" \", sentence).strip()\n",
    "    return sentence\n",
    "\n",
    "# Function to clean html tags from a sentence\n",
    "def removeHtml(sentence):\n",
    "    \"\"\"\n",
    "    Removes HTML tags from the sentence.\n",
    "    \"\"\"\n",
    "    pattern = re.compile('<.*?>')\n",
    "    cleaned_text = re.sub(pattern, ' ', sentence)\n",
    "    return cleaned_text\n",
    "\n",
    "# Remove URL from sentences.\n",
    "def removeURL(sentence):\n",
    "    \"\"\"\n",
    "    Removes URLs from the sentence.\n",
    "    \"\"\"\n",
    "    text = re.sub(r\"http\\S+\", \" \", sentence)\n",
    "    sentence = re.sub(r\"www.\\S+\", \" \", text)\n",
    "    return sentence\n",
    "\n",
    "# Function to keep only words containing letters A-Z and a-z.\n",
    "# This will remove all punctuations, special characters, etc. https://stackoverflow.com/a/5843547/4084039\n",
    "def removePunctuations(sentence):\n",
    "    \"\"\"\n",
    "    Removes all characters except letters from A-Z and a-z.\n",
    "    \"\"\"\n",
    "    cleaned_text = re.sub('[^a-zA-Z]', ' ', sentence)\n",
    "    return cleaned_text\n",
    "\n",
    "# Remove words like 'zzzzzzzzzzzzzzzzzzzzzzz', 'testtting', 'grrrrrrreeeettttt' etc.\n",
    "# Preserves words like 'looks', 'goods', 'soon' etc.\n",
    "# We will remove all such words which have three consecutive repeating characters.\n",
    "def removePatterns(sentence):\n",
    "    \"\"\"\n",
    "    Removes words with three consecutive repeating characters.\n",
    "    \"\"\"\n",
    "    cleaned_text = re.sub(r\"\\s*\\b(?=\\w*(\\w)\\1{2,})\\w*\\b\", ' ', sentence)\n",
    "    return cleaned_text\n"
   ]
  },
  {
   "cell_type": "code",
   "execution_count": 12,
   "metadata": {},
   "outputs": [],
   "source": [
    "# Importing necessary modules for stemming and stopwords removal\n",
    "from nltk.stem.snowball import SnowballStemmer\n",
    "from nltk.corpus import stopwords\n",
    "\n",
    "# Initialize the Snowball stemmer for the English language\n",
    "sno = SnowballStemmer(language='english')\n",
    "\n",
    "# Get the default list of stopwords from NLTK\n",
    "default_stopwords = set(stopwords.words('english'))\n",
    "\n",
    "# Define a set of stopwords to be removed from the default stopwords list\n",
    "remove_not = set(['no', 'nor', 'not'])\n",
    "\n",
    "# Create a custom list of stopwords by removing 'no', 'nor', 'not' from the default list\n",
    "custom_stopwords = default_stopwords - remove_not\n"
   ]
  },
  {
   "cell_type": "code",
   "execution_count": 22,
   "metadata": {},
   "outputs": [
    {
     "name": "stderr",
     "output_type": "stream",
     "text": [
      "100%|███████████████████████████████████████████████████████████████████████| 156060/156060 [00:14<00:00, 10653.45it/s]\n",
      "100%|███████████████████████████████████████████████████████████████████████| 10221/10221 [00:00<00:00, 2039873.49it/s]\n"
     ]
    },
    {
     "data": {
      "image/png": "[encoded data removed]",
      "text/plain": [
       "<Figure size 2000x1000 with 1 Axes>"
      ]
     },
     "metadata": {},
     "output_type": "display_data"
    }
   ],
   "source": [
    "# Import necessary libraries\n",
    "from tqdm import tqdm\n",
    "import matplotlib.pyplot as plt\n",
    "\n",
    "# Initialize an empty list to store all words\n",
    "total_words = []\n",
    "\n",
    "# Iterate over each review in the dataset\n",
    "for review in tqdm(final_data['Phrase'].values):\n",
    "    # Apply preprocessing steps to clean the review text\n",
    "    review = decontracted(review)\n",
    "    review = removeNumbers(review)\n",
    "    review = removeHtml(review)\n",
    "    review = removeURL(review)\n",
    "    review = removePunctuations(review)\n",
    "    review = removePatterns(review)\n",
    "    \n",
    "    # Split the cleaned review into words\n",
    "    for cleaned_word in review.split():\n",
    "        # Check if the word is not in custom_stopwords\n",
    "        if cleaned_word not in custom_stopwords:\n",
    "            # Stem the word and convert it to lowercase\n",
    "            stemmed_word = sno.stem(cleaned_word.lower())\n",
    "            # Add the stemmed word to the list of total_words\n",
    "            total_words.append(stemmed_word)\n",
    "\n",
    "# Get a list of unique words\n",
    "total_words = list(set(total_words))\n",
    "\n",
    "# Initialize an empty list to store the lengths of each word\n",
    "dist = []\n",
    "\n",
    "# Calculate the length of each word and append it to dist\n",
    "for word in tqdm(total_words):\n",
    "    length = len(word)\n",
    "    dist.append(length)\n",
    "\n",
    "# Create a histogram to visualize the distribution of word lengths\n",
    "plt.figure(figsize=(20, 10))\n",
    "plt.hist(dist, color='green', edgecolor='blue', bins=90)\n",
    "plt.title('Distribution of Word Lengths across all Reviews')\n",
    "plt.xlabel('Word Lengths')\n",
    "plt.ylabel('Number of Words')\n",
    "plt.show()\n"
   ]
  },
  {
   "cell_type": "markdown",
   "metadata": {},
   "source": [
    "### Conclusion from the above histogram: "
   ]
  },
  {
   "cell_type": "markdown",
   "metadata": {},
   "source": [
    "We can see that most stemmed words present in the reviews has lengths between 3 and 10. Words which has length greater than 13 are very very very few as compared to other words. So we will discard these words from the reviews when we process them. It means we will consider only those words whose length is greater than 2 and less than 13."
   ]
  },
  {
   "cell_type": "code",
   "execution_count": 14,
   "metadata": {},
   "outputs": [
    {
     "name": "stderr",
     "output_type": "stream",
     "text": [
      "100%|████████████████████████████████████████████████████████████████████████| 156060/156060 [00:19<00:00, 7930.90it/s]\n"
     ]
    },
    {
     "name": "stdout",
     "output_type": "stream",
     "text": [
      "The length of the data corpus is : 156060\n"
     ]
    }
   ],
   "source": [
    "# Combining all the above data cleaning methodologies as discussed above.\n",
    "\n",
    "#Processing review Texts\n",
    "preprocessed_reviews = [] # Store all the processed reviews\n",
    "all_positive_words = [] # Store all the relevant words from Positive reviews\n",
    "all_negative_words = [] # Store all the relevant words from Negative reviews\n",
    "\n",
    "count = 0 # Iterator to iterate through the list of reviews and check if a given review belongs to the positive or negative class\n",
    "string = ''\n",
    "stemed_word = ''\n",
    "\n",
    "# Iterate through each review in final_data['Phrase'].values\n",
    "for review in tqdm(final_data['Phrase'].values):\n",
    "    filtered_sentence = []\n",
    "    \n",
    "    # Apply various data cleaning steps to each review\n",
    "    review = decontracted(review)  # Decontract words like \"won't\" to \"will not\"\n",
    "    review = removeNumbers(review)  # Remove numbers from the review\n",
    "    review = removeHtml(review)  # Remove HTML tags from the review\n",
    "    review = removeURL(review)  # Remove URLs from the review\n",
    "    review = removePunctuations(review)  # Remove punctuations from the review\n",
    "    review = removePatterns(review)  # Remove patterns like repeated characters from the review\n",
    "    \n",
    "    # Process each cleaned word in the review\n",
    "    for cleaned_words in review.split():   \n",
    "        if (cleaned_words not in custom_stopwords) and (2 < len(cleaned_words) < 16):\n",
    "            stemed_word = sno.stem(cleaned_words.lower())  # Stem each word using SnowballStemmer\n",
    "            filtered_sentence.append(stemed_word)  # Append stemmed word to filtered_sentence\n",
    "            \n",
    "            # Append positive and negative words based on SentimentPolarity\n",
    "            if final_data['SentimentPolarity'].values[count] == 'Positive': \n",
    "                all_positive_words.append(stemed_word)\n",
    "            if final_data['SentimentPolarity'].values[count] == 'Negative':\n",
    "                all_negative_words.append(stemed_word)\n",
    "    \n",
    "    # Join filtered words into a final string of cleaned words for the review\n",
    "    review = \" \".join(filtered_sentence)\n",
    "    preprocessed_reviews.append(review.strip())  # Append cleaned review to preprocessed_reviews\n",
    "    count += 1\n",
    "\n",
    "# Save the list of positive words and negative words using pickle\n",
    "import pickle\n",
    "with open('all_positive_words.pkl', 'wb') as file:\n",
    "    pickle.dump(all_positive_words, file)\n",
    "    \n",
    "with open('all_negative_words.pkl', 'wb') as file:\n",
    "    pickle.dump(all_negative_words, file)\n",
    "    \n",
    "# Adding a column of CleanedText to the table final which stores the data corpus after pre-processing the reviews \n",
    "final_data['CleanedText'] = preprocessed_reviews\n",
    "    \n",
    "# Print the length of the data corpus\n",
    "print(\"The length of the data corpus is : {}\".format(len(preprocessed_reviews)))\n",
    "\n",
    "# Adding a column of CleanedText to the table final which stores the data corpus after pre-processing the reviews \n",
    "final_data['CleanedText'] = preprocessed_reviews\n"
   ]
  },
  {
   "cell_type": "markdown",
   "metadata": {},
   "source": [
    "### In this code block : "
   ]
  },
  {
   "cell_type": "markdown",
   "metadata": {},
   "source": [
    "1. We define a function which is used to seperate the positive and the negative data points for any input dataset using their corresponding class labels, using KNN algorithm.\n",
    "2. We split the input dataset into train set and test set. For the training set I have taken the old 80% data. For the test set I have taken the latest 20% data. The idea here is to see how the model behaves when it's tested on 'new unseen' data after getting trained on an old data.\n",
    "3. We use cross validation to determine the optimal value of K, and use this value of K as our number nearest neighbours to train the final model.\n",
    "4. Finally, we will use accuracy as a metric to evaluate this models performance on unseen data."
   ]
  },
  {
   "cell_type": "code",
   "execution_count": 23,
   "metadata": {},
   "outputs": [],
   "source": [
    "def knn_algorithm(X_train, y_train, X_test, y_test, vectorizationType):\n",
    "    '''\n",
    "    This function splits the dataset into training set and test sets. The test data remains untouched.\n",
    "    A 10-fold cross-validation is performed on the train data to determine the optimal value of K.\n",
    "    The dataset is then trained with this optimal K value.\n",
    "    Finally, the KNN model is used to predict its accuracy on the future unseen test set.\n",
    "    \n",
    "    Parameters:\n",
    "    X_train (numpy array): Training features\n",
    "    y_train (numpy array): Training labels\n",
    "    X_test (numpy array): Test features\n",
    "    y_test (numpy array): Test labels\n",
    "    vectorizationType (str): Type of vectorization used (e.g., TF-IDF, Count Vectorization)\n",
    "    \n",
    "    Returns:\n",
    "    None\n",
    "    '''\n",
    "    \n",
    "    # List of algorithms to use (currently only 'brute' for simplicity)\n",
    "    algorithms = ['brute']\n",
    "    \n",
    "    # Iterate over each algorithm\n",
    "    for algo in algorithms:\n",
    "        \n",
    "        print(\"\\nStarting Cross Validation steps for {} model using {} algorithm.\".format(vectorizationType, algo.upper()))\n",
    "        \n",
    "        # List of different K values for KNN\n",
    "        k_values = list(np.arange(1, 50, 2))\n",
    "        \n",
    "        # List to hold mean of cross-validation accuracy scores for each value of k\n",
    "        cross_val_scores = []\n",
    "        \n",
    "        # Perform 10-fold cross-validation on the training set\n",
    "        for k in k_values:\n",
    "            knn_classifier = KNeighborsClassifier(n_neighbors=k, weights='distance', algorithm=algo, p=2, metric='minkowski', n_jobs=-1)\n",
    "            accuracies = cross_val_score(knn_classifier, X_train, y_train, cv=10, scoring='accuracy')\n",
    "            cross_val_scores.append(accuracies.mean())\n",
    "        \n",
    "        # Calculate errors (1 - accuracy) for each value of k\n",
    "        errors = [1 - x for x in cross_val_scores]\n",
    "        \n",
    "        # Determine the optimal k value based on the minimum error\n",
    "        optimal_k = k_values[errors.index(min(errors))]\n",
    "        print('\\nThe optimal number of neighbors for {} algorithm is : {}'.format(algo.upper(), optimal_k))\n",
    "        \n",
    "        # Plot errors vs k values\n",
    "        plt.figure(figsize=(12, 6))\n",
    "        plt.plot(k_values, errors, color='blue', linestyle='dashed', linewidth=2, marker='o', markerfacecolor='red', markersize=10)\n",
    "        for xy in zip(k_values, np.round(errors, 3)):\n",
    "            plt.annotate('(%s, %s)' % xy, xy=xy, textcoords='data')\n",
    "        plt.title('Plot for Errors vs K Values')\n",
    "        plt.xlabel('Number of Neighbors K for {} algorithm'.format(algo.upper()))\n",
    "        plt.ylabel('Errors')\n",
    "        plt.show()\n",
    "        \n",
    "        print(\"The error for each k value when using {} algorithm: {}\".format(algo.upper(), np.round(errors, 3)))\n",
    "        \n",
    "        # Train the model using the optimal value of k\n",
    "        knn_classifier = KNeighborsClassifier(n_neighbors=optimal_k, weights='distance', algorithm=algo, p=2, metric='minkowski', n_jobs=-1)\n",
    "        knn_classifier.fit(X_train, y_train)\n",
    "        \n",
    "        # Predict labels for the test set\n",
    "        y_pred = knn_classifier.predict(X_test)\n",
    "        \n",
    "        ''' PERFORMANCE EVALUATION '''\n",
    "        \n",
    "        print(\"\\n''' PERFORMANCE EVALUATION FOR {} model '''\".format(vectorizationType))\n",
    "        \n",
    "        print(\"\\n\\nDetailed report for the {} Vectorization using {} algorithm:\".format(algo.upper(), vectorizationType))\n",
    "        \n",
    "        # Evaluate accuracy of the model on test set\n",
    "        test_accuracy = accuracy_score(y_test, y_pred, normalize=True) * 100\n",
    "        points = accuracy_score(y_test, y_pred, normalize=False)\n",
    "        print('The number of accurate predictions out of {} data points on unseen data for K = {} is {}'.format(X_test.shape[0], optimal_k, points))\n",
    "        print('\\nAccuracy of the KNN model using {} algorithm on unseen data for K = {} is {} %'.format(algo.upper(), optimal_k, np.round(test_accuracy, 2)))\n",
    "        \n",
    "        # Get precision, recall, and F1 score for this model\n",
    "        print(\"Precision of the KNN model using {} algorithm on unseen data for K = {} is {}\".format(algo.upper(), optimal_k, np.round(metrics.precision_score(y_test, y_pred), 4)))\n",
    "        print(\"Recall of the KNN model using {} algorithm on unseen data for K = {} is {}\".format(algo.upper(), optimal_k, np.round(metrics.recall_score(y_test, y_pred), 4)))\n",
    "        print(\"F1 score of the KNN model using {} algorithm on unseen data for K = {} is {}\".format(algo.upper(), optimal_k, np.round(metrics.f1_score(y_test, y_pred), 4)))\n",
    "        \n",
    "        # Classification Report\n",
    "        print('\\nClassification report for {} model using {} algorithm :\\n'.format(vectorizationType, algo.upper()))\n",
    "        print(metrics.classification_report(y_test, y_pred))\n",
    "        \n",
    "        # Inference\n",
    "        print(\"\\nOf all the reviews that the model has predicted to be positive, {}% of them are actually positive.\".format(np.round(metrics.precision_score(y_test, y_pred) * 100, 2)))\n",
    "        print(\"Of all the reviews that are actually positive, the model has predicted {}% of them to be positive.\".format(np.round(metrics.recall_score(y_test, y_pred) * 100, 2)))\n",
    "        \n",
    "        # Confusion matrix\n",
    "        print(\"\\nConfusion matrix for {} model using {} algorithm:\".format(vectorizationType, algo.upper()))\n",
    "        sciplot.plot_confusion_matrix(y_test, y_pred)\n",
    "        \n",
    "        # Save model information to a file\n",
    "        info_model_KNN = [vectorizationType, optimal_k, np.round(np.array(errors).mean(), 4), np.round(1 - metrics.accuracy_score(y_test, y_pred), 4), np.round(metrics.f1_score(y_test, y_pred), 4)]\n",
    "        with open('info_model_KNN.txt', 'a') as filehandle:\n",
    "            filehandle.writelines(\"%s \" % iterator for iterator in info_model_KNN)\n",
    "            filehandle.writelines(\"\\n\")\n",
    "        \n",
    "        # Free up memory\n",
    "        del X_train, y_train, X_test, y_test, y_pred, knn_classifier\n"
   ]
  },
  {
   "cell_type": "markdown",
   "metadata": {},
   "source": [
    "### KNN on the Bag of Words model created using 'CleanedText'. "
   ]
  },
  {
   "cell_type": "markdown",
   "metadata": {},
   "source": [
    "Certainly! Here's a modified explanation:\n",
    "\n",
    "---\n",
    "\n",
    "A bag-of-words model, often abbreviated as BoW, is a method for converting text data into numerical vectors that machine learning models can process effectively. Let's consider we have N reviews in our dataset, and we want to transform these reviews into vectors using BoW.\n",
    "\n",
    "Here's how BoW works:\n",
    "\n",
    "1. Tokenization: First, each review is tokenized into individual words or tokens. These tokens are typically words, but they can also be n-grams (sequences of words).\n",
    "\n",
    "2. Vocabulary Creation: BoW creates a vocabulary of all unique words across the entire dataset. Each unique word becomes a dimension in the vector space.\n",
    "\n",
    "3. Vectorization: For each review, BoW counts how many times each word from the vocabulary appears in that review. These counts are then placed in the corresponding positions in a high-dimensional vector, forming a sparse matrix representation.\n",
    "\n",
    "4. Sparse Matrix: The resulting matrix is sparse because each review will only contain a subset of the entire vocabulary. Most entries in the matrix will be zero, as each review typically uses only a small fraction of the total vocabulary.\n",
    "\n",
    "5. Representation: Each review is thus represented as a vector where the length equals the size of the vocabulary, and each element represents the frequency of a word in that review.\n",
    "\n",
    "BoW is straightforward and versatile, making it suitable for various natural language processing tasks, including sentiment analysis, classification, and clustering."
   ]
  },
  {
   "cell_type": "code",
   "execution_count": null,
   "metadata": {},
   "outputs": [],
   "source": []
  },
  {
   "cell_type": "code",
   "execution_count": 16,
   "metadata": {},
   "outputs": [
    {
     "name": "stdout",
     "output_type": "stream",
     "text": [
      "\n",
      "Creating the Bag-of-Words (BoW) vectors using the cleaned corpus\n",
      "The shape of the X_train_vectors is : (40000, 5052)\n",
      "The shape of the X_test_vectors is : (10000, 5052)\n",
      "\n",
      "Starting Cross Validation steps for Bag-of-Words model using BRUTE algorithm.\n",
      "\n",
      "The optimal number of neighbors for BRUTE algorithm is : 15\n"
     ]
    },
    {
     "data": {
      "image/png": "[encoded data removed]",
      "text/plain": [
       "<Figure size 1200x600 with 1 Axes>"
      ]
     },
     "metadata": {},
     "output_type": "display_data"
    },
    {
     "name": "stdout",
     "output_type": "stream",
     "text": [
      "The error for each k value when using BRUTE algorithm: [0.294 0.273 0.261 0.253 0.248 0.247 0.247 0.245 0.246 0.247 0.248 0.249\n",
      " 0.249 0.25  0.252 0.254 0.255 0.256 0.257 0.258 0.259 0.26  0.261 0.261\n",
      " 0.262]\n",
      "\n",
      "''' PERFORMANCE EVALUATION FOR Bag-of-Words model '''\n",
      "\n",
      "\n",
      "Detailed report for the BRUTE Vectorization using Bag-of-Words algorithm:\n",
      "The number of accurate predictions out of 10000 data points on unseen data for K = 15 is 7709\n",
      "\n",
      "Accuracy of the KNN model using BRUTE algorithm on unseen data for K = 15 is 77.09 %\n",
      "Precision of the KNN model using BRUTE algorithm on unseen data for K = 15 is 0.7414\n",
      "Recall of the KNN model using BRUTE algorithm on unseen data for K = 15 is 0.2778\n",
      "F1 score of the KNN model using BRUTE algorithm on unseen data for K = 15 is 0.4042\n",
      "\n",
      "Classification report for Bag-of-Words model using BRUTE algorithm :\n",
      "\n",
      "              precision    recall  f1-score   support\n",
      "\n",
      "           0       0.77      0.96      0.86      7203\n",
      "           1       0.74      0.28      0.40      2797\n",
      "\n",
      "    accuracy                           0.77     10000\n",
      "   macro avg       0.76      0.62      0.63     10000\n",
      "weighted avg       0.77      0.77      0.73     10000\n",
      "\n",
      "\n",
      "Of all the reviews that the model has predicted to be positive, 74.14% of them are actually positive.\n",
      "Of all the reviews that are actually positive, the model has predicted 27.78% of them to be positive.\n",
      "\n",
      "Confusion matrix for Bag-of-Words model using BRUTE algorithm:\n"
     ]
    },
    {
     "data": {
      "image/png": "[encoded data removed]",
      "text/plain": [
       "<Figure size 640x480 with 2 Axes>"
      ]
     },
     "metadata": {},
     "output_type": "display_data"
    }
   ],
   "source": [
    "# Assigning the sampled dataset to a new variable\n",
    "sampled_dataset = final_data\n",
    "\n",
    "# Split the dataset into train and test sets. Use time-based splitting where the top 80% is for training and the latest 20% for testing.\n",
    "# Adjust split point accordingly based on dataset size.\n",
    "split = 40000  # Split point determined based on dataset size or time-based cutoff\n",
    "\n",
    "# Extracting features (X) and labels (y) from the dataset\n",
    "X = sampled_dataset['CleanedText']\n",
    "y = sampled_dataset['Class_Labels']\n",
    "\n",
    "# Splitting into train and test sets based on the predetermined split point\n",
    "X_train = X[0:split]  # Training data\n",
    "y_train = y[0:split]  # Training labels\n",
    "X_test = X[split:50000]  # Test data\n",
    "y_test = y[split:50000]  # Test labels\n",
    "\n",
    "# Initializing the CountVectorizer for Bag-of-Words (BoW) vectorization and fitting it on the training data\n",
    "cv_object = CountVectorizer().fit(X_train)\n",
    "\n",
    "# Creating BoW vectors for both train and test datasets using the fitted CountVectorizer\n",
    "print(\"\\nCreating the Bag-of-Words (BoW) vectors using the cleaned corpus\")\n",
    "X_train_vectors = cv_object.transform(X_train)\n",
    "X_test_vectors = cv_object.transform(X_test)\n",
    "\n",
    "# Column standardization of BoW vectors using StandardScaler\n",
    "from sklearn.preprocessing import StandardScaler\n",
    "scalar = StandardScaler(with_mean=False)\n",
    "scalar.fit(X_train_vectors)\n",
    "X_train_vectors = scalar.transform(X_train_vectors)\n",
    "X_test_vectors = scalar.transform(X_test_vectors)\n",
    "\n",
    "# Printing the shapes of the transformed vectors\n",
    "print(\"The shape of the X_train_vectors is : {}\".format(X_train_vectors.shape))\n",
    "print(\"The shape of the X_test_vectors is : {}\".format(X_test_vectors.shape))\n",
    "\n",
    "# Freeing memory allocations by deleting unnecessary variables\n",
    "del sampled_dataset, X, y, X_train, X_test\n",
    "\n",
    "# Fitting the KNN algorithm to the BoW model and evaluating its performance\n",
    "knn_algorithm(X_train_vectors, y_train, X_test_vectors, y_test, \"Bag-of-Words\")\n"
   ]
  },
  {
   "cell_type": "markdown",
   "metadata": {},
   "source": [
    "### KNN on the TF-IDF model created using 'CleanedText' texts"
   ]
  },
  {
   "cell_type": "markdown",
   "metadata": {},
   "source": [
    "In information retrieval, tf–idf or TFIDF, short for term frequency–inverse document frequency, is a numerical statistic that is intended to reflect how important a word is to a document in a collection or corpus."
   ]
  },
  {
   "cell_type": "markdown",
   "metadata": {},
   "source": [
    "Let's assume we have data corpus D, which contains N reviews {r1,r2,r3,r4...rN}. Let's say our review r1 contains the following words {w1,w2,w3,w1,w9,w6,w7,w9,w9}."
   ]
  },
  {
   "cell_type": "markdown",
   "metadata": {},
   "source": [
    "TF or Term Frequency for a word is basically the number of times a word occurs in a review divided by the total number of words present in that same review. For example, in the text corpus that we have considered in the above example, the TF for word w1 is (2/9) and for word w9 is (1/3). Intuitively, higher the occurence of a word in a text is, greater will be its TF value. TF values lies between 0 and 1."
   ]
  },
  {
   "cell_type": "markdown",
   "metadata": {},
   "source": [
    "IDF or Inverse Document Frequency for a word is given by the formula log(N/n), where 'N' is equal to the total number of reviews in the corpus 'D' and 'n' refers to the number of reviews in 'D' which contains that specific word. Intuitively, IDF will be higher for words which occur rarely and will be less for words which occurs more frequently. IDF values are more than 0."
   ]
  },
  {
   "cell_type": "markdown",
   "metadata": {},
   "source": [
    "So for each word in each review we will consider the product of (TF x IDF), and represent it in a d dimensional vector."
   ]
  },
  {
   "cell_type": "markdown",
   "metadata": {},
   "source": [
    "TF-IDF basically doesn't consider the semantic meaning of words. But what is does is that it gives more importance to words which occurs less frequently in the whole data corpus and also gives much importance to the most frequent words that occurs in each review."
   ]
  },
  {
   "cell_type": "code",
   "execution_count": 19,
   "metadata": {},
   "outputs": [
    {
     "name": "stdout",
     "output_type": "stream",
     "text": [
      "\n",
      "Creating the TF-IDF vectors using the cleaned corpus\n",
      "The shape of the X_train_vectors is : (40000, 5052)\n",
      "The shape of the X_test_vectors is : (10000, 5052)\n",
      "\n",
      "Starting Cross Validation steps for TF-IDF model using BRUTE algorithm.\n",
      "\n",
      "The optimal number of neighbors for BRUTE algorithm is : 17\n"
     ]
    },
    {
     "data": {
      "image/png": "[encoded data removed]",
      "text/plain": [
       "<Figure size 1200x600 with 1 Axes>"
      ]
     },
     "metadata": {},
     "output_type": "display_data"
    },
    {
     "name": "stdout",
     "output_type": "stream",
     "text": [
      "The error for each k value when using BRUTE algorithm: [0.309 0.287 0.274 0.267 0.261 0.259 0.257 0.256 0.255 0.256 0.256 0.256\n",
      " 0.256 0.257 0.259 0.26  0.262 0.263 0.263 0.264 0.264 0.264 0.265 0.265\n",
      " 0.265]\n",
      "\n",
      "''' PERFORMANCE EVALUATION FOR TF-IDF model '''\n",
      "\n",
      "\n",
      "Detailed report for the BRUTE Vectorization using TF-IDF algorithm:\n",
      "The number of accurate predictions out of 10000 data points on unseen data for K = 17 is 7600\n",
      "\n",
      "Accuracy of the KNN model using BRUTE algorithm on unseen data for K = 17 is 76.0 %\n",
      "Precision of the KNN model using BRUTE algorithm on unseen data for K = 17 is 0.7132\n",
      "Recall of the KNN model using BRUTE algorithm on unseen data for K = 17 is 0.2374\n",
      "F1 score of the KNN model using BRUTE algorithm on unseen data for K = 17 is 0.3562\n",
      "\n",
      "Classification report for TF-IDF model using BRUTE algorithm :\n",
      "\n",
      "              precision    recall  f1-score   support\n",
      "\n",
      "           0       0.76      0.96      0.85      7203\n",
      "           1       0.71      0.24      0.36      2797\n",
      "\n",
      "    accuracy                           0.76     10000\n",
      "   macro avg       0.74      0.60      0.60     10000\n",
      "weighted avg       0.75      0.76      0.71     10000\n",
      "\n",
      "\n",
      "Of all the reviews that the model has predicted to be positive, 71.32% of them are actually positive.\n",
      "Of all the reviews that are actually positive, the model has predicted 23.74% of them to be positive.\n",
      "\n",
      "Confusion matrix for TF-IDF model using BRUTE algorithm:\n"
     ]
    },
    {
     "data": {
      "image/png": "[encoded data removed]",
      "text/plain": [
       "<Figure size 640x480 with 2 Axes>"
      ]
     },
     "metadata": {},
     "output_type": "display_data"
    }
   ],
   "source": [
    "# TF-IDF model creation using text reviews. HTML tags and punctuations are removed. All stopwords are preserved.\n",
    "\n",
    "# Assigning the sampled dataset to a new variable\n",
    "sampled_dataset = final_data\n",
    "\n",
    "# Split the dataset into train and test sets. Use time-based splitting where the top 80% is for training and the latest 20% for testing.\n",
    "# Adjust split point accordingly based on dataset size.\n",
    "split = 40000  # Split point determined based on dataset size or time-based cutoff\n",
    "\n",
    "# Extracting features (X) and labels (y) from the dataset\n",
    "X = sampled_dataset['CleanedText']\n",
    "y = sampled_dataset['Class_Labels']\n",
    "\n",
    "# Splitting into train and test sets based on the predetermined split point\n",
    "X_train = X[0:split]  # Training data\n",
    "y_train = y[0:split]  # Training labels\n",
    "X_test = X[split:50000]  # Test data\n",
    "y_test = y[split:50000]  # Test labels\n",
    "\n",
    "# Initializing the TfidfVectorizer for TF-IDF vectorization and fitting it on the training data\n",
    "tf_idf_object = TfidfVectorizer(ngram_range=(1, 1)).fit(X_train)\n",
    "\n",
    "# Creating TF-IDF vectors for both train and test datasets using the fitted TfidfVectorizer\n",
    "print(\"\\nCreating the TF-IDF vectors using the cleaned corpus\")\n",
    "X_train_vectors = tf_idf_object.transform(X_train)\n",
    "X_test_vectors = tf_idf_object.transform(X_test)\n",
    "\n",
    "# Column standardization of TF-IDF vectors using StandardScaler (optional, reconsider necessity)\n",
    "from sklearn.preprocessing import StandardScaler\n",
    "scalar = StandardScaler(with_mean=False)\n",
    "scalar.fit(X_train_vectors)\n",
    "X_train_vectors = scalar.transform(X_train_vectors)\n",
    "X_test_vectors = scalar.transform(X_test_vectors)\n",
    "\n",
    "# Printing the shapes of the transformed vectors\n",
    "print(\"The shape of the X_train_vectors is : {}\".format(X_train_vectors.shape))\n",
    "print(\"The shape of the X_test_vectors is : {}\".format(X_test_vectors.shape))\n",
    "\n",
    "# Freeing memory allocations by deleting unnecessary variables\n",
    "del sampled_dataset, X, y, X_train, X_test\n",
    "\n",
    "# Fitting the KNN algorithm to the TF-IDF model and evaluating its performance\n",
    "knn_algorithm(X_train_vectors, y_train, X_test_vectors, y_test, \"TF-IDF\")\n"
   ]
  },
  {
   "cell_type": "markdown",
   "metadata": {},
   "source": [
    "### KNN on the Average Word2Vec using a 100 dimensional vector representation of each word. "
   ]
  },
  {
   "cell_type": "markdown",
   "metadata": {},
   "source": [
    "In this model we convert each word present in a review to vectors. For each sentence we will compute the average word to vec representation. Let's look at the below demo example."
   ]
  },
  {
   "cell_type": "markdown",
   "metadata": {},
   "source": [
    "Suppose we have N words in a sentence {w1,w2,w3,w4,w5,w6 ... , wN}. We will convert each word to a vector, sum them up and divide by the total number of words (N) present in that particular sentence. So our final vector will look like (1/N) * [word2vec(w1) + word2vec(w2) + word2vec(w3) .... + word2vec(wN)]"
   ]
  },
  {
   "cell_type": "code",
   "execution_count": null,
   "metadata": {},
   "outputs": [],
   "source": [
    "# KNN using the average Word2Vec model on the Amazon dataset, using a 100 dimensional vector representation of each word.\n",
    "\n",
    "# Assigning the sampled dataset to a new variable\n",
    "sampled_dataset = final_data\n",
    "\n",
    "# Split the dataset into train and test sets. Use time-based splitting where the top 80% is for training and the latest 20% for testing.\n",
    "# Adjust split point accordingly based on dataset size.\n",
    "split = 40000  # Split point determined based on dataset size or time-based cutoff\n",
    "\n",
    "# Extracting features (X) and labels (y) from the dataset\n",
    "X = sampled_dataset['CleanedText']\n",
    "y = sampled_dataset['Class_Labels']\n",
    "\n",
    "# Splitting into train and test sets based on the predetermined split point\n",
    "X_train = X[0:split]  # Training data\n",
    "y_train = y[0:split]  # Training labels\n",
    "X_test = X[split:50000]  # Test data\n",
    "y_test = y[split:50000]  # Test labels\n",
    "\n",
    "# Function to vectorize using Average Word2Vec\n",
    "def vectorize(dataset):\n",
    "    word2vec_corpus = []\n",
    "    for sentence in dataset:\n",
    "        word2vec_corpus.append(sentence.split())  # Returns a list of words for each sentence for all the reviews\n",
    "    print(\"The size of the Word2Vec text corpus:\", len(word2vec_corpus))\n",
    "    \n",
    "    # min_count=5 considers only those words for our model which occurs at least 5 times\n",
    "    word2vec_model = Word2Vec(sentences=word2vec_corpus, size=200, min_count=5, workers=6)\n",
    "    word2vec_words = list(word2vec_model.wv.vocab)\n",
    "    print(\"\\nThe number of words that occurred minimum 5 times:\", len(word2vec_words))\n",
    "\n",
    "    # Creating average Word2Vec model by computing the average word2vec for each review.\n",
    "    sent_vectors = []  # The average word2vec for each sentence/review will be stored in this list\n",
    "    for sentence in word2vec_corpus:  # For each review\n",
    "        sent_vec = np.zeros(200)  # 200 dimensional array, where all elements are zero. Used to add word vectors and find averages.\n",
    "        count_words = 0  # Stores count of words with a valid vector in each review text\n",
    "        for word in sentence:  # For each word in a given review.\n",
    "            if word in word2vec_words:\n",
    "                word_vectors = word2vec_model.wv[word]  # Vector (numpy array of 100 dimensions) for each word.\n",
    "                sent_vec += word_vectors\n",
    "                count_words += 1\n",
    "        if count_words != 0:\n",
    "            sent_vec /= count_words\n",
    "        sent_vectors.append(sent_vec)\n",
    "    print(\"\\nThe length of the sentence vectors:\", len(sent_vectors))\n",
    "    print(\"\\nSize of each vector:\", len(sent_vectors[0]))\n",
    "    sent_vectors = np.array(sent_vectors)\n",
    "    return sent_vectors\n",
    "\n",
    "# Vectorizing both train and test datasets using Average Word2Vec\n",
    "X_train_vectors = vectorize(X_train)\n",
    "X_test_vectors = vectorize(X_test)\n",
    "\n",
    "# Column standardization of Average Word2Vec vectors using StandardScaler (optional, reconsider necessity)\n",
    "from sklearn.preprocessing import StandardScaler\n",
    "scalar = StandardScaler(with_mean=False)\n",
    "scalar.fit(X_train_vectors)\n",
    "X_train_vectors = scalar.transform(X_train_vectors)\n",
    "X_test_vectors = scalar.transform(X_test_vectors)\n",
    "\n",
    "# Printing the shapes of the transformed vectors\n",
    "print(\"The shape of the X_train_vectors is:\", X_train_vectors.shape)\n",
    "print(\"The shape of the X_test_vectors is:\", X_test_vectors.shape)\n",
    "\n",
    "# Freeing memory allocations by deleting unnecessary variables\n",
    "del sampled_dataset, X, y, X_train, X_test\n",
    "\n",
    "# Fitting the KNN algorithm to the Average Word2Vec model and evaluating its performance\n",
    "knn_algorithm(X_train_vectors, y_train, X_test_vectors, y_test, \"Average-Word2Vec\")\n"
   ]
  },
  {
   "cell_type": "markdown",
   "metadata": {},
   "source": [
    "### KNN on the TF-IDF weighted Average Word2Vec representation on the reviews "
   ]
  },
  {
   "cell_type": "markdown",
   "metadata": {},
   "source": [
    "In this model we convert each word present in a review to vectors. For each sentence we will compute the tf-idf average word to vec representation. Let's look at the below demo example."
   ]
  },
  {
   "cell_type": "markdown",
   "metadata": {},
   "source": [
    "Suppose we have N words in a sentence {w1,w2,w3,w4,w5,w6 ... , wN}. We will compute the tf-idf for each word in a review for all reviews. Lets say the corresponding tf-idfs are {t1,t2,t3,t4,t5,t6......tN}. We will convert each word to a vector, sum them up and divide by the summation of tf-idf vectors for all words present in that particular sentence. So our final vector will look like [1/(t1+t2+t3+t4+t5+t6+ ..... +tN)] * [word2vec(w1) + word2vec(w2) + word2vec(w3) .... + word2vec(wN)]"
   ]
  },
  {
   "cell_type": "code",
   "execution_count": null,
   "metadata": {},
   "outputs": [],
   "source": [
    "'''KNN using TF-IDF weighted Average Word2Vec model on the Amazon dataset.'''\n",
    "\n",
    "# Assigning the sampled dataset to a new variable\n",
    "sampled_dataset = final_data\n",
    "\n",
    "# Split the dataset into train and test sets. Use time-based splitting where the top 80% is for training and the latest 20% for testing.\n",
    "# Adjust split point accordingly based on dataset size.\n",
    "split = 40000  # Split point determined based on dataset size or time-based cutoff\n",
    "\n",
    "# Extracting features (X) and labels (y) from the dataset\n",
    "X = sampled_dataset['CleanedText']\n",
    "y = sampled_dataset['Class_Labels']\n",
    "\n",
    "# Splitting into train and test sets based on the predetermined split point\n",
    "X_train = X[0:split]  # Training data\n",
    "y_train = y[0:split]  # Training labels\n",
    "X_test = X[split:50000]  # Test data\n",
    "y_test = y[split:50000]  # Test labels\n",
    "\n",
    "# Function to vectorize using TF-IDF weighted Average Word2Vec\n",
    "def vectorize(dataset, fit_dataset):\n",
    "\n",
    "    # word2vec_corpus will store the list of words for each review.\n",
    "    word2vec_corpus = []\n",
    "    for sentence in dataset:\n",
    "        word2vec_corpus.append(sentence.split())\n",
    "\n",
    "    # min_count=5 considers only those words which occur at least 5 times\n",
    "    word2vec_model = Word2Vec(sentences=word2vec_corpus, size=200, min_count=5, workers=6)\n",
    "    word2vec_words = list(word2vec_model.wv.vocab)\n",
    "\n",
    "    # Initializing the TF-IDF constructor with review texts. HTML tags and punctuations are removed. Stopwords are preserved.\n",
    "    tf_idf_object = TfidfVectorizer(ngram_range=(1, 1)).fit(fit_dataset)\n",
    "    final_tf_idf_vectors = tf_idf_object.transform(dataset)\n",
    "    tfidf_features = tf_idf_object.get_feature_names()\n",
    "\n",
    "    # Algorithm for finding the TF-IDF weighted average word2vec vectors.\n",
    "    tfidf_sent_vectors = []  # The tfidf-w2v for each sentence/review will be stored in this list\n",
    "    row = 0\n",
    "    for sentence in word2vec_corpus:  # For each review/sentence\n",
    "        sent_vec = np.zeros(200)  # 200 dimensional array, where all elements are zero. Used to add word vectors and find averages at each iteration.\n",
    "        weight_sum = 0  # This will store the count of the words with a valid vector in each review text.\n",
    "        for word in sentence:  # For each word in a review/sentence\n",
    "            if (word in word2vec_words) and (word in tfidf_features):\n",
    "                word_vectors = word2vec_model.wv[word]\n",
    "                tf_idf = final_tf_idf_vectors[row, tfidf_features.index(word)]  # tf_idf of a word in a sentence/review\n",
    "                sent_vec += (word_vectors * tf_idf)\n",
    "                weight_sum += tf_idf\n",
    "        if weight_sum != 0:\n",
    "            sent_vec /= weight_sum\n",
    "        tfidf_sent_vectors.append(sent_vec)\n",
    "        row += 1\n",
    "\n",
    "    tfidf_sent_vectors = np.array(tfidf_sent_vectors)\n",
    "    return tfidf_sent_vectors\n",
    "\n",
    "# Vectorizing both train and test datasets using TF-IDF weighted Average Word2Vec\n",
    "X_train_vectors = vectorize(X_train, X_train)\n",
    "X_test_vectors = vectorize(X_test, X_train)\n",
    "\n",
    "# Column standardization of TF-IDF Average Word2Vec vectors using StandardScaler\n",
    "from sklearn.preprocessing import StandardScaler\n",
    "scalar = StandardScaler(with_mean=False)\n",
    "scalar.fit(X_train_vectors)\n",
    "X_train_vectors = scalar.transform(X_train_vectors)\n",
    "X_test_vectors = scalar.transform(X_test_vectors)\n",
    "\n",
    "# Printing the shapes of the transformed vectors\n",
    "print(\"The shape of the X_train_vectors is:\", X_train_vectors.shape)\n",
    "print(\"The shape of the X_test_vectors is:\", X_test_vectors.shape)\n",
    "\n",
    "# Freeing memory allocations by deleting unnecessary variables\n",
    "del X, y, X_train, X_test, sampled_dataset\n",
    "\n",
    "# Fitting the KNN algorithm to the TF-IDF Average Word2Vec model and evaluating its performance\n",
    "knn_algorithm(X_train_vectors, y_train, X_test_vectors, y_test, \"TF-IDF-Average-Word2Vec\")\n"
   ]
  },
  {
   "cell_type": "code",
   "execution_count": null,
   "metadata": {},
   "outputs": [],
   "source": [
    "# pip install prettytable\n"
   ]
  },
  {
   "cell_type": "code",
   "execution_count": 21,
   "metadata": {},
   "outputs": [
    {
     "name": "stdout",
     "output_type": "stream",
     "text": [
      "Please find below the important metrics for all the models:\n",
      "\n",
      "+--------------+----------------------------+-------------+------------+----------+\n",
      "|    Model     | Hyper-Parameter Value (K=) | Train Error | Test Error | F1-Score |\n",
      "+--------------+----------------------------+-------------+------------+----------+\n",
      "| Bag-of-Words |             15             |    0.2557   |   0.2291   |  0.4042  |\n",
      "|    TF-IDF    |             17             |    0.264    |    0.24    |  0.3562  |\n",
      "| Bag-of-Words |             15             |    0.2557   |   0.2291   |  0.4042  |\n",
      "|    TF-IDF    |             17             |    0.264    |    0.24    |  0.3562  |\n",
      "| Bag-of-Words |             15             |    0.2557   |   0.2291   |  0.4042  |\n",
      "|    TF-IDF    |             17             |    0.264    |    0.24    |  0.3562  |\n",
      "| Bag-of-Words |             15             |    0.2557   |   0.2291   |  0.4042  |\n",
      "| Bag-of-Words |             15             |    0.2557   |   0.2291   |  0.4042  |\n",
      "|    TF-IDF    |             17             |    0.264    |    0.24    |  0.3562  |\n",
      "|    TF-IDF    |             17             |    0.264    |    0.24    |  0.3562  |\n",
      "+--------------+----------------------------+-------------+------------+----------+\n"
     ]
    }
   ],
   "source": [
    "from prettytable import PrettyTable\n",
    "\n",
    "# Initialize a PrettyTable instance\n",
    "table = PrettyTable()\n",
    "\n",
    "# Define the column names for the table\n",
    "table.field_names = [\"Model\", \"Hyper-Parameter Value (K=)\", \"Train Error\", \"Test Error\", \"F1-Score\"]\n",
    "\n",
    "# Open the file containing model information\n",
    "with open('info_model_KNN.txt', 'r') as file:\n",
    "    # Read each line from the file\n",
    "    for line in file:\n",
    "        # Split the line into individual elements (assuming they are space-separated)\n",
    "        row = line.split()\n",
    "        # Add the row to the PrettyTable\n",
    "        table.add_row(row)\n",
    "\n",
    "# Print the table\n",
    "print(\"Please find below the important metrics for all the models:\\n\")\n",
    "print(table)\n"
   ]
  },
  {
   "cell_type": "code",
   "execution_count": null,
   "metadata": {},
   "outputs": [],
   "source": []
  }
 ],
 "metadata": {
  "kernelspec": {
   "display_name": "Python 3 (ipykernel)",
   "language": "python",
   "name": "python3"
  },
  "language_info": {
   "codemirror_mode": {
    "name": "ipython",
    "version": 3
   },
   "file_extension": ".py",
   "mimetype": "text/x-python",
   "name": "python",
   "nbconvert_exporter": "python",
   "pygments_lexer": "ipython3",
   "version": "3.11.7"
  }
 },
 "nbformat": 4,
 "nbformat_minor": 4
}
